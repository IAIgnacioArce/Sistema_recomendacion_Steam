{
 "cells": [
  {
   "cell_type": "markdown",
   "metadata": {},
   "source": [
    "### consulta 1 API\n",
    "###### def developer( desarrollador : str ): Cantidad de items y porcentaje de contenido Free por año según empresa desarrolladora.\n",
    "\n"
   ]
  },
  {
   "cell_type": "markdown",
   "metadata": {},
   "source": [
    "Importamos librerias "
   ]
  },
  {
   "cell_type": "code",
   "execution_count": 1,
   "metadata": {},
   "outputs": [],
   "source": [
    "import csv \n",
    "import pandas as pd"
   ]
  },
  {
   "cell_type": "markdown",
   "metadata": {},
   "source": [
    "Guardamos ruta de acceso en una variable"
   ]
  },
  {
   "cell_type": "code",
   "execution_count": 2,
   "metadata": {},
   "outputs": [],
   "source": [
    "path_SteamGames = r'C:\\Users\\Usuario\\Desktop\\proyecto steam\\Data Exportada\\user_games_clean.parquet'"
   ]
  },
  {
   "cell_type": "markdown",
   "metadata": {},
   "source": [
    "Abrimos el archivo con pandas"
   ]
  },
  {
   "cell_type": "code",
   "execution_count": 3,
   "metadata": {},
   "outputs": [],
   "source": [
    "df_games_clean = pd.read_parquet(path_SteamGames)"
   ]
  },
  {
   "cell_type": "markdown",
   "metadata": {},
   "source": [
    "Creamos una función developer que toma como entrada el nombre del desarrollador y el DataFrame. Devuelve un DataFrame que contiene la cantidad de items y el porcentaje de contenido gratuito por año."
   ]
  },
  {
   "cell_type": "code",
   "execution_count": 4,
   "metadata": {},
   "outputs": [
    {
     "name": "stdout",
     "output_type": "stream",
     "text": [
      "      Año  Cantidad de Items Contenido Free\n",
      "0  2013.0                  1           100%\n",
      "1  2018.0                  5             0%\n"
     ]
    }
   ],
   "source": [
    "def developer(desarrollador: str, df: pd.DataFrame):\n",
    "    # Convertir la columna 'release_date' a formato de fecha si no lo está\n",
    "    df['release_date'] = pd.to_datetime(df['release_date'], errors='coerce')\n",
    "\n",
    "    # Filtrar el DataFrame por el desarrollador dado\n",
    "    developer_df = df[df['developer'] == desarrollador]\n",
    "\n",
    "    # Agrupar por año y contar la cantidad de elementos en cada grupo\n",
    "    items_por_año = developer_df.groupby(df['release_date'].dt.year).size().reset_index(name='Cantidad de Items')\n",
    "\n",
    "    # Calcular el porcentaje de contenido gratuito para cada año\n",
    "    free_por_año = developer_df[developer_df['price'] == 0].groupby(df['release_date'].dt.year).size().reset_index(name='Contenido Free')\n",
    "\n",
    "    # Combinar los resultados en un DataFrame final\n",
    "    result_df = items_por_año.merge(free_por_año, on='release_date', how='left')\n",
    "    result_df['Contenido Free'] = (result_df['Contenido Free'] / result_df['Cantidad de Items'] * 100).fillna(0).astype(int).astype(str) + '%'\n",
    "\n",
    "    # Renombrar la columna de años\n",
    "    result_df.rename(columns={'release_date': 'Año'}, inplace=True)\n",
    "\n",
    "    return result_df\n",
    "\n",
    "# Llamada a la función con el desarrollador \"Poppermost Productions\" y el DataFrame df_games_clean\n",
    "desarrolladorr = input(\"cargue el desarrollador: \")\n",
    "consulta = developer(desarrolladorr, df_games_clean)\n",
    "print(consulta)"
   ]
  }
 ],
 "metadata": {
  "kernelspec": {
   "display_name": "Python 3",
   "language": "python",
   "name": "python3"
  },
  "language_info": {
   "codemirror_mode": {
    "name": "ipython",
    "version": 3
   },
   "file_extension": ".py",
   "mimetype": "text/x-python",
   "name": "python",
   "nbconvert_exporter": "python",
   "pygments_lexer": "ipython3",
   "version": "3.11.5"
  }
 },
 "nbformat": 4,
 "nbformat_minor": 2
}
