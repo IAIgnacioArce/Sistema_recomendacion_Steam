{
 "cells": [
  {
   "cell_type": "markdown",
   "metadata": {},
   "source": [
    "### Consulta 4\n",
    "###### def best_developer_year( año : int ): Devuelve el top 3 de desarrolladores con juegos MÁS recomendados por usuarios para el año dado. (reviews.recommend = True y comentarios positivos)"
   ]
  },
  {
   "cell_type": "code",
   "execution_count": 12,
   "metadata": {},
   "outputs": [],
   "source": [
    "import pandas as pd\n",
    "import re"
   ]
  },
  {
   "cell_type": "markdown",
   "metadata": {},
   "source": [
    "Guardamos en sus repectectivas variables las rutas de acceso"
   ]
  },
  {
   "cell_type": "code",
   "execution_count": 13,
   "metadata": {},
   "outputs": [],
   "source": [
    "df_games = pd.read_parquet(r'C:\\Users\\Usuario\\Desktop\\proyecto steam\\Data Exportada\\user_games_clean.parquet')\n",
    "df_reviews = pd.read_parquet(r'C:\\Users\\Usuario\\Desktop\\proyecto steam\\Data Exportada\\user_reviews_clean.parquet')\n",
    "df_sentimientos = pd.read_parquet(r'C:\\Users\\Usuario\\Desktop\\proyecto steam\\Sentiment_analysis\\Sentiment_Analysis_parquet')\n"
   ]
  },
  {
   "cell_type": "markdown",
   "metadata": {},
   "source": [
    "Creamos una copia de cada DataFrame para realizar sobre ellas las operaciones "
   ]
  },
  {
   "cell_type": "code",
   "execution_count": 14,
   "metadata": {},
   "outputs": [],
   "source": [
    "df_games_copy = df_games.copy()\n",
    "df_reviews_copy = df_reviews.copy()\n",
    "df_sentimientos_copy = df_sentimientos.copy()"
   ]
  },
  {
   "cell_type": "markdown",
   "metadata": {},
   "source": [
    "Fusionamos df1 y df2 en item_id utilizando un left join (manteniendo todas las filas de df1)"
   ]
  },
  {
   "cell_type": "code",
   "execution_count": 15,
   "metadata": {},
   "outputs": [],
   "source": [
    "df_merged = df_sentimientos_copy.merge(df_games_copy[['id', 'developer']], left_on='item_id', right_on='id', how='left')"
   ]
  },
  {
   "cell_type": "markdown",
   "metadata": {},
   "source": [
    "#### El código realiza las siguientes acciones:\n",
    "\n",
    "1. Define un patrón regex para extraer el año (cuatro dígitos).\n",
    "2. Extrae el año de cada celda en la columna 'posted' utilizando regex y lo guarda en una nueva columna llamada 'year_posted'.\n",
    "3. Elimina la columna original 'posted' del DataFrame.\n"
   ]
  },
  {
   "cell_type": "code",
   "execution_count": 16,
   "metadata": {},
   "outputs": [],
   "source": [
    "\n",
    "patron = r'(\\b\\d{4}\\b)'\n",
    "\n",
    "df_merged['year_posted'] = df_merged['posted'].str.extract(patron)\n",
    "\n",
    "df_merged.drop(columns=['posted'], inplace=True)\n"
   ]
  },
  {
   "cell_type": "markdown",
   "metadata": {},
   "source": [
    "\n",
    " Reordenamos las columnas del DataFrame con el nuevo orden\n"
   ]
  },
  {
   "cell_type": "code",
   "execution_count": 17,
   "metadata": {},
   "outputs": [],
   "source": [
    "nuevo_orden_columnas = [\n",
    "    'user_id',\n",
    "    'item_id',\n",
    "    'recommend',\n",
    "    'sentiment_analysis',\n",
    "    'developer',\n",
    "    'year_posted'\n",
    "]\n",
    "\n",
    "# Reordena las columnas del DataFrame con el nuevo orden\n",
    "df_merged = df_merged[nuevo_orden_columnas]"
   ]
  },
  {
   "cell_type": "markdown",
   "metadata": {},
   "source": [
    "Eliminamos las filas con valores NaN en la columna 'year_posted'\n",
    "\n"
   ]
  },
  {
   "cell_type": "code",
   "execution_count": 18,
   "metadata": {},
   "outputs": [],
   "source": [
    "df_merged.dropna(subset=['year_posted'], inplace=True)\n"
   ]
  },
  {
   "cell_type": "markdown",
   "metadata": {},
   "source": [
    "Convierte la columna 'year_posted' al tipo de datos entero\n"
   ]
  },
  {
   "cell_type": "code",
   "execution_count": 19,
   "metadata": {},
   "outputs": [],
   "source": [
    "df_merged['year_posted'] = df_merged['year_posted'].astype(int)\n"
   ]
  },
  {
   "cell_type": "markdown",
   "metadata": {},
   "source": [
    "Creamos la consulta, donde devuelve el top 3 de desarrolladores con juegos MÁS recomendados por usuarios para el año dado. (reviews.recommend = True y comentarios positivos)"
   ]
  },
  {
   "cell_type": "code",
   "execution_count": 20,
   "metadata": {},
   "outputs": [],
   "source": [
    "def best_developer_year(df, año):\n",
    "    \"\"\"\n",
    "    Devuelve el top 3 de desarrolladores con juegos MÁS recomendados por usuarios para el año dado.\n",
    "    Se tienen en cuenta recommend = True + sentiment_analysis con mayor puntuación.\n",
    "\n",
    "    Args:\n",
    "        df (pd.DataFrame): DataFrame que contiene los datos.\n",
    "        año (int): Año para el que se desea obtener el top 3 de desarrolladores.\n",
    "\n",
    "    Returns:\n",
    "        dict: Diccionario ordenado con los top 3 desarrolladores para el año dado, en formato {1er puesto: primer juego, 2do puesto: segundo juego, 3er puesto: tercer juego}.\n",
    "    \"\"\"\n",
    "    # Filtrar el DataFrame para el año dado\n",
    "    df_año = df[df['year_posted'] == año]\n",
    "\n",
    "    # Filtrar por recomendaciones verdaderas y sentimiento de análisis más alto\n",
    "    df_filtrado = df_año[df_año['recommend'] & (df_año['sentiment_analysis'] == df_año['sentiment_analysis'].max())]\n",
    "\n",
    "    # Agrupar por desarrollador y contar las recomendaciones\n",
    "    top_developers = df_filtrado.groupby('developer')['recommend'].sum()\n",
    "\n",
    "    # Ordenar los desarrolladores por número de recomendaciones en orden descendente\n",
    "    top_developers = top_developers.sort_values(ascending=False)\n",
    "\n",
    "    # Tomar los top 3 desarrolladores\n",
    "    top_3_developers = top_developers.head(3)\n",
    "\n",
    "    # Crear el diccionario ordenado con los top 3 desarrolladores\n",
    "    top_developers_dict = {}\n",
    "    for i, (developer, recomendaciones) in enumerate(top_3_developers.items(), 1):\n",
    "        puesto = f\"{i}er puesto\"\n",
    "        top_developers_dict[puesto] = developer\n",
    "\n",
    "    return top_developers_dict"
   ]
  },
  {
   "cell_type": "markdown",
   "metadata": {},
   "source": [
    "Realizamos la prueba de su correcto funcionamiento"
   ]
  },
  {
   "cell_type": "code",
   "execution_count": 21,
   "metadata": {},
   "outputs": [
    {
     "name": "stdout",
     "output_type": "stream",
     "text": [
      "Top 3 de desarrolladores para el año 2015: {'1er puesto': 'Valve', '2er puesto': 'Facepunch Studios', '3er puesto': 'Smartly Dressed Games'}\n"
     ]
    }
   ],
   "source": [
    "# Llamar a la función con el año deseado\n",
    "año = 2015\n",
    "top_3_desarrolladores = best_developer_year(df_merged, año)\n",
    "\n",
    "# Imprimir el top 3 de desarrolladores para el año dado\n",
    "print(f\"Top 3 de desarrolladores para el año {año}: {top_3_desarrolladores}\")\n"
   ]
  },
  {
   "cell_type": "markdown",
   "metadata": {},
   "source": [
    "Exportamos la consulta a .parquet"
   ]
  },
  {
   "cell_type": "code",
   "execution_count": 22,
   "metadata": {},
   "outputs": [],
   "source": [
    "df_merged.to_parquet(r'C:\\Users\\Usuario\\Desktop\\proyecto steam\\Data Exportada\\df_marged.parquet', index=False)"
   ]
  }
 ],
 "metadata": {
  "kernelspec": {
   "display_name": "Python 3",
   "language": "python",
   "name": "python3"
  },
  "language_info": {
   "codemirror_mode": {
    "name": "ipython",
    "version": 3
   },
   "file_extension": ".py",
   "mimetype": "text/x-python",
   "name": "python",
   "nbconvert_exporter": "python",
   "pygments_lexer": "ipython3",
   "version": "3.11.5"
  }
 },
 "nbformat": 4,
 "nbformat_minor": 2
}
