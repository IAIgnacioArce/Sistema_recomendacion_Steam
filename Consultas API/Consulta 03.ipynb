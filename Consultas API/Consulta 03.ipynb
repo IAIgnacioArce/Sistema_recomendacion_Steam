{
 "cells": [
  {
   "cell_type": "markdown",
   "metadata": {},
   "source": [
    "### Consulta 3 \n",
    "###### def UserForGenre( genero : str ): Debe devolver el usuario que acumula más horas jugadas para el género dado y una lista de la acumulación de horas jugadas por año de lanzamiento."
   ]
  },
  {
   "cell_type": "markdown",
   "metadata": {},
   "source": [
    "importamos librerias "
   ]
  },
  {
   "cell_type": "code",
   "execution_count": 1,
   "metadata": {},
   "outputs": [],
   "source": [
    "import csv\n",
    "import pandas as pd "
   ]
  },
  {
   "cell_type": "markdown",
   "metadata": {},
   "source": [
    "Guardamos las rutas de acceso a los archivos , cada una en su respetectva variable"
   ]
  },
  {
   "cell_type": "code",
   "execution_count": 2,
   "metadata": {},
   "outputs": [],
   "source": [
    "path_SteamGames = r'C:\\Users\\Usuario\\Desktop\\proyecto steam\\Data Exportada\\user_games_clean.parquet'\n",
    "path_UserID = r'C:\\Users\\Usuario\\Desktop\\proyecto steam\\Data Exportada\\user_items_clean.parquet'"
   ]
  },
  {
   "cell_type": "markdown",
   "metadata": {},
   "source": [
    "Abrimos los archivos con pandas, creando un dataframe de cada uno"
   ]
  },
  {
   "cell_type": "code",
   "execution_count": 3,
   "metadata": {},
   "outputs": [],
   "source": [
    "df_Steam_games = pd.read_parquet(path_SteamGames)\n",
    "df_user_items = pd.read_parquet(path_UserID) "
   ]
  },
  {
   "cell_type": "markdown",
   "metadata": {},
   "source": [
    "Creamos la consulta, donde devuelve el usuario que acumula más horas jugadas para el género dado y una lista de la acumulación de horas jugadas por año de lanzamiento."
   ]
  },
  {
   "cell_type": "code",
   "execution_count": 4,
   "metadata": {},
   "outputs": [
    {
     "name": "stdout",
     "output_type": "stream",
     "text": [
      "{'Usuario con más horas jugadas para Casual: ': 'tsunamitad', 'Horas jugadas': [{'release_date': 1994.0, 'Horas': 35403.0}, {'release_date': 1995.0, 'Horas': 3562.0}, {'release_date': 1996.0, 'Horas': 570.0}, {'release_date': 1997.0, 'Horas': 2118.0}, {'release_date': 1998.0, 'Horas': 4829.0}, {'release_date': 1999.0, 'Horas': 222.0}, {'release_date': 2000.0, 'Horas': 15.0}, {'release_date': 2001.0, 'Horas': 675.0}, {'release_date': 2002.0, 'Horas': 3635.0}, {'release_date': 2003.0, 'Horas': 1447.0}, {'release_date': 2004.0, 'Horas': 13190.0}, {'release_date': 2005.0, 'Horas': 39406.0}, {'release_date': 2006.0, 'Horas': 231961.0}, {'release_date': 2007.0, 'Horas': 725805.0}, {'release_date': 2008.0, 'Horas': 387125.0}, {'release_date': 2009.0, 'Horas': 589975.0}, {'release_date': 2010.0, 'Horas': 2755429.0}, {'release_date': 2011.0, 'Horas': 2947626.0}, {'release_date': 2012.0, 'Horas': 7234482.0}, {'release_date': 2013.0, 'Horas': 9053437.0}, {'release_date': 2014.0, 'Horas': 7519644.0}, {'release_date': 2015.0, 'Horas': 19483550.0}, {'release_date': 2016.0, 'Horas': 9497279.0}, {'release_date': 2017.0, 'Horas': 30255.0}]}\n"
     ]
    }
   ],
   "source": [
    "def UserForGenre(genero: str, df_Steam_games, df_user_items):\n",
    "    # Verificar si la columna 'genre' está presente en el DataFrame df_Steam_games\n",
    "    if 'genres' not in df_Steam_games.columns:\n",
    "        raise ValueError(\"El DataFrame df_Steam_games no tiene una columna llamada 'genre'.\")\n",
    "    \n",
    "    # Convertir la columna 'release_date' a tipo datetime\n",
    "    df_Steam_games['release_date'] = pd.to_datetime(df_Steam_games['release_date'], errors='coerce')\n",
    "    \n",
    "    # Filtrar df_Steam_games por el género dado\n",
    "    juegos_genero = df_Steam_games[df_Steam_games['genres'] == genero]\n",
    "    \n",
    "    # Unir el DataFrame filtrado con df_user_items\n",
    "    juegos_usuario = juegos_genero.merge(df_user_items, left_on='id', right_on='item_id')\n",
    "    \n",
    "    # Calcular las horas jugadas por usuario para cada juego\n",
    "    horas_por_usuario = juegos_usuario.groupby('user_id')['playtime_forever'].sum().reset_index()\n",
    "    \n",
    "    # Encontrar el usuario con más horas jugadas\n",
    "    usuario_max_horas = horas_por_usuario.loc[horas_por_usuario['playtime_forever'].idxmax()]['user_id']\n",
    "    \n",
    "    # Calcular la acumulación de horas jugadas por año de lanzamiento para el género dado\n",
    "    horas_por_año = juegos_usuario.groupby(juegos_usuario['release_date'].dt.year)['playtime_forever'].sum().reset_index()\n",
    "    horas_por_año.rename(columns={'playtime_forever': 'Horas'}, inplace=True)\n",
    "    horas_por_año = horas_por_año.to_dict('records')\n",
    "    \n",
    "    # Crear el diccionario de resultados\n",
    "    result = {\n",
    "        \"Usuario con más horas jugadas para {}: \".format(genero): usuario_max_horas,\n",
    "        \"Horas jugadas\": horas_por_año\n",
    "    }\n",
    "    \n",
    "    return result\n",
    "\n",
    "# Ejemplo de uso:\n",
    "resultado = UserForGenre(\"Casual\", df_Steam_games, df_user_items)\n",
    "print(resultado)\n"
   ]
  }
 ],
 "metadata": {
  "kernelspec": {
   "display_name": "Python 3",
   "language": "python",
   "name": "python3"
  },
  "language_info": {
   "codemirror_mode": {
    "name": "ipython",
    "version": 3
   },
   "file_extension": ".py",
   "mimetype": "text/x-python",
   "name": "python",
   "nbconvert_exporter": "python",
   "pygments_lexer": "ipython3",
   "version": "3.11.5"
  }
 },
 "nbformat": 4,
 "nbformat_minor": 2
}
