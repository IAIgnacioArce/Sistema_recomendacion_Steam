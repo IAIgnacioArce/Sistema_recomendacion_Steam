{
 "cells": [
  {
   "cell_type": "markdown",
   "metadata": {},
   "source": [
    "### Consulta 5 \n",
    "###### def developer_reviews_analysis( desarrolladora : str ): Según el desarrollador, se devuelve un diccionario con el nombre del desarrollador como llave y una lista con la cantidad total de registros de reseñas de usuarios que se encuentren categorizados con un análisis de sentimiento como valor positivo o negativo.\n",
    "\n"
   ]
  },
  {
   "cell_type": "markdown",
   "metadata": {},
   "source": [
    "Importamos libreria"
   ]
  },
  {
   "cell_type": "code",
   "execution_count": 1,
   "metadata": {},
   "outputs": [],
   "source": [
    "import pandas as pd\n"
   ]
  },
  {
   "cell_type": "markdown",
   "metadata": {},
   "source": [
    "Guardamos cada ruta de acceso a su respectiva variable"
   ]
  },
  {
   "cell_type": "code",
   "execution_count": 2,
   "metadata": {},
   "outputs": [],
   "source": [
    "path_games = r'C:\\Users\\Usuario\\Desktop\\proyecto steam\\Data Exportada\\user_games_clean.parquet'\n",
    "\n",
    "path_SA =r'C:\\Users\\Usuario\\Desktop\\proyecto steam\\Sentiment_analysis\\Sentiment_Analysis_parquet'\n"
   ]
  },
  {
   "cell_type": "markdown",
   "metadata": {},
   "source": [
    "Abrimos los archivos desde pandas y los guardamos en una varible a cada uno"
   ]
  },
  {
   "cell_type": "code",
   "execution_count": 3,
   "metadata": {},
   "outputs": [],
   "source": [
    "games_clean = pd.read_parquet(path_games)\n",
    "sentiment_analysis = pd.read_parquet(path_SA)\n"
   ]
  },
  {
   "cell_type": "markdown",
   "metadata": {},
   "source": [
    "Creamos la consulta que devuelve, según el desarrollador, un diccionario con el nombre del desarrollador como llave y una lista con la cantidad total de registros de reseñas de usuarios que se encuentren categorizados con un análisis de sentimiento como valor positivo o negativo."
   ]
  },
  {
   "cell_type": "code",
   "execution_count": 4,
   "metadata": {},
   "outputs": [
    {
     "name": "stdout",
     "output_type": "stream",
     "text": [
      "{'Crystal Dynamics': [{'Negativas': 2}, {'Positivas': 3}]}\n"
     ]
    }
   ],
   "source": [
    "def developer_reviews_analysis(desarrolladora):\n",
    "    # Combinar conjuntos de datos en las columnas apropiadas ('item_id' en reviews y 'id' en games)\n",
    "    merged_data = pd.merge(sentiment_analysis, games_clean, left_on='item_id', right_on='id')\n",
    "    \n",
    "    # Filtrar filas donde el puntaje de sentimiento es positivo (2) o negativo (0)\n",
    "    filtered_data = merged_data[merged_data['sentiment_analysis'] != 1]  # Excluir sentimiento neutral\n",
    "    \n",
    "    # Agrupar por desarrolladora y puntaje de sentimiento, contar la cantidad de resenas\n",
    "    grouped_data = filtered_data.groupby(['developer', 'sentiment_analysis']).size().unstack(fill_value=0)\n",
    "    \n",
    "    # Verificar si la desarrolladora está presente en el DataFrame\n",
    "    if desarrolladora in grouped_data.index:\n",
    "        # Extraer cantidad de resenas positivas y negativas para la desarrolladora especificada\n",
    "        developer_reviews = grouped_data.loc[desarrolladora]\n",
    "\n",
    "        # Convertir cantidades a formato de lista con claves especificadas\n",
    "        developer_reviews_list = [\n",
    "            {\"Negativas\": developer_reviews.get(0, 0)},\n",
    "            {\"Positivas\": developer_reviews.get(2, 0)}\n",
    "        ]\n",
    "\n",
    "        return {desarrolladora: developer_reviews_list}\n",
    "    else:\n",
    "        return f\"No se encontró información sobre la desarrolladora {desarrolladora}\"\n",
    "\n",
    "# Ejemplo de uso:\n",
    "developer = input(\"Ingrese nombre del desarrolladora: \")\n",
    "resultado = developer_reviews_analysis(developer)\n",
    "print(resultado)\n"
   ]
  }
 ],
 "metadata": {
  "kernelspec": {
   "display_name": "Python 3",
   "language": "python",
   "name": "python3"
  },
  "language_info": {
   "codemirror_mode": {
    "name": "ipython",
    "version": 3
   },
   "file_extension": ".py",
   "mimetype": "text/x-python",
   "name": "python",
   "nbconvert_exporter": "python",
   "pygments_lexer": "ipython3",
   "version": "3.11.5"
  }
 },
 "nbformat": 4,
 "nbformat_minor": 2
}
