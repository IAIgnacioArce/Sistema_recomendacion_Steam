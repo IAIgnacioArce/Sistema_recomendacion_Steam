{
 "cells": [
  {
   "cell_type": "markdown",
   "metadata": {},
   "source": [
    "### Consulta 2 \n",
    "###### def userdata( User_id : str ): Debe devolver cantidad de dinero gastado por el usuario, el porcentaje de recomendación en base a reviews.recommend y cantidad de items."
   ]
  },
  {
   "cell_type": "markdown",
   "metadata": {},
   "source": [
    "Importamos librerias "
   ]
  },
  {
   "cell_type": "code",
   "execution_count": 6,
   "metadata": {},
   "outputs": [],
   "source": [
    "import pandas as pd\n",
    "import csv "
   ]
  },
  {
   "cell_type": "markdown",
   "metadata": {},
   "source": [
    "Guardamos la ruta de acceso de cada archivo en sus respectivas variables\n"
   ]
  },
  {
   "cell_type": "code",
   "execution_count": 7,
   "metadata": {},
   "outputs": [],
   "source": [
    "path_SteamGames = r'C:\\Users\\Usuario\\Desktop\\proyecto steam\\Data Exportada\\user_games_clean.parquet'\n",
    "path_UserReviews = r'C:\\Users\\Usuario\\Desktop\\proyecto steam\\Data Exportada\\user_reviews_clean.parquet'\n",
    "path_UserItems = r'C:\\Users\\Usuario\\Desktop\\proyecto steam\\Data Exportada\\user_items_clean.parquet'"
   ]
  },
  {
   "cell_type": "markdown",
   "metadata": {},
   "source": [
    "Abrimos los archivos necesarios para la consulta"
   ]
  },
  {
   "cell_type": "code",
   "execution_count": 8,
   "metadata": {},
   "outputs": [],
   "source": [
    "df_Steam_Games = pd.read_parquet(path_SteamGames)\n",
    "df_reviews = pd.read_parquet(path_UserReviews)\n",
    "df_Items = pd.read_parquet(path_UserItems)"
   ]
  },
  {
   "cell_type": "markdown",
   "metadata": {},
   "source": [
    "Creamos la consulta, donde devuelve la cantidad de dinero gastado por el usuario, el porcentaje de recomendación en base a recommend y cantidad de items."
   ]
  },
  {
   "cell_type": "code",
   "execution_count": 10,
   "metadata": {},
   "outputs": [
    {
     "name": "stdout",
     "output_type": "stream",
     "text": [
      "{'Usuario': '76561198070234207', 'Dinero gastado': '69.95 USD', '% de recomendación': '0.00%', 'Cantidad de items': 1089}\n"
     ]
    }
   ],
   "source": [
    "def userdata(User_id, df_Items, df_Steam_Games, df_reviews):\n",
    "    # Convertir la columna 'user_id' a str\n",
    "    df_Items['user_id'] = df_Items['user_id'].astype(str)\n",
    "    df_reviews['user_id'] = df_reviews['user_id'].astype(str)\n",
    "    \n",
    "    # Filtrar df_Items por el user_id dado\n",
    "    user_items = df_Items[df_Items['user_id'] == str(User_id)]\n",
    "    \n",
    "    # Calcular la cantidad de dinero gastado por el usuario\n",
    "    # Convertir la columna 'price' a numérica\n",
    "    df_Steam_Games['price'] = pd.to_numeric(df_Steam_Games['price'], errors='coerce')\n",
    "    money_spent = user_items.merge(df_Steam_Games[['id', 'price']], left_on='item_id', right_on='id')['price'].sum()\n",
    "    \n",
    "    # Calcular la cantidad total de items del usuario\n",
    "    total_items = user_items['items_count'].sum()\n",
    "    \n",
    "    # Filtrar df_reviews por el user_id dado\n",
    "    user_reviews = df_reviews[df_reviews['user_id'] == str(User_id)]\n",
    "    \n",
    "    # Calcular el porcentaje de recomendación promedio del usuario\n",
    "    if user_reviews.shape[0] > 0:\n",
    "        recommendation_percentage = (user_reviews['recommend'].sum() / user_reviews.shape[0]) * 100\n",
    "    else:\n",
    "        recommendation_percentage = 0\n",
    "    \n",
    "    # Crear el diccionario de resultados\n",
    "    result = {\n",
    "        \"Usuario\": str(User_id),\n",
    "        \"Dinero gastado\": f\"{money_spent:.2f} USD\",  # Ajustamos el formato para mostrar dos decimales\n",
    "        \"% de recomendación\": f\"{recommendation_percentage:.2f}%\",\n",
    "        \"Cantidad de items\": total_items\n",
    "    }\n",
    "    \n",
    "    return result\n",
    "\n",
    "# Ejemplo de uso:\n",
    "usuario = input(\"ingrese id del usuario: \")\n",
    "resultado = userdata(usuario, df_Items, df_Steam_Games, df_reviews)\n",
    "print(resultado)\n"
   ]
  }
 ],
 "metadata": {
  "kernelspec": {
   "display_name": "Python 3",
   "language": "python",
   "name": "python3"
  },
  "language_info": {
   "codemirror_mode": {
    "name": "ipython",
    "version": 3
   },
   "file_extension": ".py",
   "mimetype": "text/x-python",
   "name": "python",
   "nbconvert_exporter": "python",
   "pygments_lexer": "ipython3",
   "version": "3.11.5"
  }
 },
 "nbformat": 4,
 "nbformat_minor": 2
}
