{
 "cells": [
  {
   "cell_type": "markdown",
   "metadata": {},
   "source": [
    "# ETL sobre 'users_items.json'"
   ]
  },
  {
   "cell_type": "markdown",
   "metadata": {},
   "source": [
    "Importamos librerias "
   ]
  },
  {
   "cell_type": "code",
   "execution_count": 1,
   "metadata": {},
   "outputs": [],
   "source": [
    "from pandas import json_normalize\n",
    "import pandas as pd \n",
    "import json \n",
    "import ast "
   ]
  },
  {
   "cell_type": "markdown",
   "metadata": {},
   "source": [
    "Guardamos la ruta de acceso  dentro de una variable \n"
   ]
  },
  {
   "cell_type": "code",
   "execution_count": 2,
   "metadata": {},
   "outputs": [],
   "source": [
    "path_items = r'C:\\Users\\Usuario\\Desktop\\proyecto steam\\Dataset\\australian_users_items.json'"
   ]
  },
  {
   "cell_type": "markdown",
   "metadata": {},
   "source": [
    "Extraemos datos de \"australian_users_items.json\" , creamos un Dataframe del archivo original.\\\n",
    "Creamos una copia del Dataframe para sus transformaciones.\n"
   ]
  },
  {
   "cell_type": "code",
   "execution_count": 3,
   "metadata": {},
   "outputs": [],
   "source": [
    "lista_items = []\n",
    "with open(path_items, encoding='utf-8') as file:\n",
    "    for line in file.readlines():\n",
    "        lista_items.append(ast.literal_eval(line))\n",
    "\n",
    " \n",
    "df_Items= pd.DataFrame(lista_items)\n",
    "\n",
    "df_Items_clean = df_Items.copy()"
   ]
  },
  {
   "cell_type": "markdown",
   "metadata": {},
   "source": [
    "Controlamos las primeras 10 filas del dataframe"
   ]
  },
  {
   "cell_type": "code",
   "execution_count": 4,
   "metadata": {},
   "outputs": [
    {
     "data": {
      "text/html": [
       "<div>\n",
       "<style scoped>\n",
       "    .dataframe tbody tr th:only-of-type {\n",
       "        vertical-align: middle;\n",
       "    }\n",
       "\n",
       "    .dataframe tbody tr th {\n",
       "        vertical-align: top;\n",
       "    }\n",
       "\n",
       "    .dataframe thead th {\n",
       "        text-align: right;\n",
       "    }\n",
       "</style>\n",
       "<table border=\"1\" class=\"dataframe\">\n",
       "  <thead>\n",
       "    <tr style=\"text-align: right;\">\n",
       "      <th></th>\n",
       "      <th>user_id</th>\n",
       "      <th>items_count</th>\n",
       "      <th>steam_id</th>\n",
       "      <th>user_url</th>\n",
       "      <th>items</th>\n",
       "    </tr>\n",
       "  </thead>\n",
       "  <tbody>\n",
       "    <tr>\n",
       "      <th>0</th>\n",
       "      <td>76561197970982479</td>\n",
       "      <td>277</td>\n",
       "      <td>76561197970982479</td>\n",
       "      <td>http://steamcommunity.com/profiles/76561197970...</td>\n",
       "      <td>[{'item_id': '10', 'item_name': 'Counter-Strik...</td>\n",
       "    </tr>\n",
       "    <tr>\n",
       "      <th>1</th>\n",
       "      <td>js41637</td>\n",
       "      <td>888</td>\n",
       "      <td>76561198035864385</td>\n",
       "      <td>http://steamcommunity.com/id/js41637</td>\n",
       "      <td>[{'item_id': '10', 'item_name': 'Counter-Strik...</td>\n",
       "    </tr>\n",
       "    <tr>\n",
       "      <th>2</th>\n",
       "      <td>evcentric</td>\n",
       "      <td>137</td>\n",
       "      <td>76561198007712555</td>\n",
       "      <td>http://steamcommunity.com/id/evcentric</td>\n",
       "      <td>[{'item_id': '1200', 'item_name': 'Red Orchest...</td>\n",
       "    </tr>\n",
       "    <tr>\n",
       "      <th>3</th>\n",
       "      <td>Riot-Punch</td>\n",
       "      <td>328</td>\n",
       "      <td>76561197963445855</td>\n",
       "      <td>http://steamcommunity.com/id/Riot-Punch</td>\n",
       "      <td>[{'item_id': '10', 'item_name': 'Counter-Strik...</td>\n",
       "    </tr>\n",
       "    <tr>\n",
       "      <th>4</th>\n",
       "      <td>doctr</td>\n",
       "      <td>541</td>\n",
       "      <td>76561198002099482</td>\n",
       "      <td>http://steamcommunity.com/id/doctr</td>\n",
       "      <td>[{'item_id': '300', 'item_name': 'Day of Defea...</td>\n",
       "    </tr>\n",
       "    <tr>\n",
       "      <th>5</th>\n",
       "      <td>MinxIsBetterThanPotatoes</td>\n",
       "      <td>371</td>\n",
       "      <td>76561198004744620</td>\n",
       "      <td>http://steamcommunity.com/id/MinxIsBetterThanP...</td>\n",
       "      <td>[{'item_id': '50', 'item_name': 'Half-Life: Op...</td>\n",
       "    </tr>\n",
       "    <tr>\n",
       "      <th>6</th>\n",
       "      <td>NitemarePK</td>\n",
       "      <td>304</td>\n",
       "      <td>76561197990951820</td>\n",
       "      <td>http://steamcommunity.com/id/NitemarePK</td>\n",
       "      <td>[{'item_id': '240', 'item_name': 'Counter-Stri...</td>\n",
       "    </tr>\n",
       "    <tr>\n",
       "      <th>7</th>\n",
       "      <td>themanwich</td>\n",
       "      <td>258</td>\n",
       "      <td>76561198035296505</td>\n",
       "      <td>http://steamcommunity.com/id/themanwich</td>\n",
       "      <td>[{'item_id': '220', 'item_name': 'Half-Life 2'...</td>\n",
       "    </tr>\n",
       "    <tr>\n",
       "      <th>8</th>\n",
       "      <td>maplemage</td>\n",
       "      <td>629</td>\n",
       "      <td>76561198026584251</td>\n",
       "      <td>http://steamcommunity.com/id/maplemage</td>\n",
       "      <td>[{'item_id': '240', 'item_name': 'Counter-Stri...</td>\n",
       "    </tr>\n",
       "    <tr>\n",
       "      <th>9</th>\n",
       "      <td>Wackky</td>\n",
       "      <td>0</td>\n",
       "      <td>76561198039117046</td>\n",
       "      <td>http://steamcommunity.com/id/Wackky</td>\n",
       "      <td>[]</td>\n",
       "    </tr>\n",
       "  </tbody>\n",
       "</table>\n",
       "</div>"
      ],
      "text/plain": [
       "                    user_id  items_count           steam_id  \\\n",
       "0         76561197970982479          277  76561197970982479   \n",
       "1                   js41637          888  76561198035864385   \n",
       "2                 evcentric          137  76561198007712555   \n",
       "3                Riot-Punch          328  76561197963445855   \n",
       "4                     doctr          541  76561198002099482   \n",
       "5  MinxIsBetterThanPotatoes          371  76561198004744620   \n",
       "6                NitemarePK          304  76561197990951820   \n",
       "7                themanwich          258  76561198035296505   \n",
       "8                 maplemage          629  76561198026584251   \n",
       "9                    Wackky            0  76561198039117046   \n",
       "\n",
       "                                            user_url  \\\n",
       "0  http://steamcommunity.com/profiles/76561197970...   \n",
       "1               http://steamcommunity.com/id/js41637   \n",
       "2             http://steamcommunity.com/id/evcentric   \n",
       "3            http://steamcommunity.com/id/Riot-Punch   \n",
       "4                 http://steamcommunity.com/id/doctr   \n",
       "5  http://steamcommunity.com/id/MinxIsBetterThanP...   \n",
       "6            http://steamcommunity.com/id/NitemarePK   \n",
       "7            http://steamcommunity.com/id/themanwich   \n",
       "8             http://steamcommunity.com/id/maplemage   \n",
       "9                http://steamcommunity.com/id/Wackky   \n",
       "\n",
       "                                               items  \n",
       "0  [{'item_id': '10', 'item_name': 'Counter-Strik...  \n",
       "1  [{'item_id': '10', 'item_name': 'Counter-Strik...  \n",
       "2  [{'item_id': '1200', 'item_name': 'Red Orchest...  \n",
       "3  [{'item_id': '10', 'item_name': 'Counter-Strik...  \n",
       "4  [{'item_id': '300', 'item_name': 'Day of Defea...  \n",
       "5  [{'item_id': '50', 'item_name': 'Half-Life: Op...  \n",
       "6  [{'item_id': '240', 'item_name': 'Counter-Stri...  \n",
       "7  [{'item_id': '220', 'item_name': 'Half-Life 2'...  \n",
       "8  [{'item_id': '240', 'item_name': 'Counter-Stri...  \n",
       "9                                                 []  "
      ]
     },
     "execution_count": 4,
     "metadata": {},
     "output_type": "execute_result"
    }
   ],
   "source": [
    "df_Items_clean.head(10)"
   ]
  },
  {
   "cell_type": "markdown",
   "metadata": {},
   "source": [
    "### En la columna 'items' decidimos desanidar los diccionarios, convirtiendo la clave en columna y el valor en una nueva fila por registro"
   ]
  },
  {
   "cell_type": "markdown",
   "metadata": {},
   "source": [
    "transformamos el DataFrame al descomponer listas en la columna 'items', lo que resulta en una representación más granular de los datos de los elementos."
   ]
  },
  {
   "cell_type": "code",
   "execution_count": 5,
   "metadata": {},
   "outputs": [],
   "source": [
    "df_items_expanded = df_Items_clean.explode('items')"
   ]
  },
  {
   "cell_type": "markdown",
   "metadata": {},
   "source": [
    "optimizamos la estructura de índice del DataFrame después de explotar listas, garantizando un esquema de indexación claro y consistente para el análisis de datos posterior."
   ]
  },
  {
   "cell_type": "code",
   "execution_count": 6,
   "metadata": {},
   "outputs": [],
   "source": [
    "df_items_expanded.reset_index(drop=True, inplace=True)"
   ]
  },
  {
   "cell_type": "markdown",
   "metadata": {},
   "source": [
    "Normalizamos, lo que permite un análisis y una manipulación de datos más efectivos."
   ]
  },
  {
   "cell_type": "code",
   "execution_count": 7,
   "metadata": {},
   "outputs": [],
   "source": [
    "df_items_normalized = json_normalize(df_items_expanded['items'])\n"
   ]
  },
  {
   "cell_type": "markdown",
   "metadata": {},
   "source": [
    "Integramos los datos originales de df_Items_clean (excluyendo la columna 'items' explotada) con los datos normalizados extraídos de los objetos JSON."
   ]
  },
  {
   "cell_type": "code",
   "execution_count": 8,
   "metadata": {},
   "outputs": [],
   "source": [
    "df_items_final = pd.concat([df_items_expanded.drop(columns=['items']), df_items_normalized], axis=1)"
   ]
  },
  {
   "cell_type": "markdown",
   "metadata": {},
   "source": [
    "Eliminamos columnas que no son utiles para el proyecto."
   ]
  },
  {
   "cell_type": "code",
   "execution_count": 9,
   "metadata": {},
   "outputs": [],
   "source": [
    "# Lista de columnas a eliminar\n",
    "columns_to_drop = ['steam_id','user_url','item_name','playtime_2weeks'] \n",
    "\n",
    "# Eliminar las columnas especificadas\n",
    "df_Items_clean = df_items_final.drop(columns=columns_to_drop, errors='ignore')"
   ]
  },
  {
   "cell_type": "markdown",
   "metadata": {},
   "source": [
    "Exportamos a .parquet"
   ]
  },
  {
   "cell_type": "code",
   "execution_count": 10,
   "metadata": {},
   "outputs": [],
   "source": [
    "df_Items_clean.to_parquet(r'C:\\Users\\Usuario\\Desktop\\proyecto steam\\Data Exportada\\user_items_clean.parquet', index=False)"
   ]
  }
 ],
 "metadata": {
  "kernelspec": {
   "display_name": "Python 3",
   "language": "python",
   "name": "python3"
  },
  "language_info": {
   "codemirror_mode": {
    "name": "ipython",
    "version": 3
   },
   "file_extension": ".py",
   "mimetype": "text/x-python",
   "name": "python",
   "nbconvert_exporter": "python",
   "pygments_lexer": "ipython3",
   "version": "3.11.5"
  }
 },
 "nbformat": 4,
 "nbformat_minor": 2
}
