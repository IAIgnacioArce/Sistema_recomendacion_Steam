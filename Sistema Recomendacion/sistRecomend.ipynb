{
 "cells": [
  {
   "cell_type": "markdown",
   "metadata": {},
   "source": [
    "Importamos librerias"
   ]
  },
  {
   "cell_type": "code",
   "execution_count": 1,
   "metadata": {},
   "outputs": [],
   "source": [
    "import pandas as pd\n",
    "from sklearn.preprocessing import StandardScaler\n",
    "from sklearn.metrics.pairwise import cosine_similarity\n",
    "import numpy as np"
   ]
  },
  {
   "cell_type": "markdown",
   "metadata": {},
   "source": [
    "Guardamos rutas de acceso , cada una en su respectiva variable"
   ]
  },
  {
   "cell_type": "code",
   "execution_count": 2,
   "metadata": {},
   "outputs": [],
   "source": [
    "df_genres = pd.read_parquet(r'C:\\Users\\Usuario\\Desktop\\proyecto steam\\df_dummies.parquet')\n",
    "df_games = pd.read_parquet(r'C:\\Users\\Usuario\\Desktop\\proyecto steam\\Data Exportada\\user_games_clean.parquet')"
   ]
  },
  {
   "cell_type": "markdown",
   "metadata": {},
   "source": [
    " ### fusionamos df_games y df_genres,\n",
    "  utilizando un left join en la columna 'id'. Luego, normalizamos la columna 'release_date' utilizando StandardScaler. Finalmente, seleccionamos ciertas características ('release_date' y columnas de género) y fusionamos este DataFrame resultante con df_games en la columna 'id'.\n"
   ]
  },
  {
   "cell_type": "code",
   "execution_count": 3,
   "metadata": {},
   "outputs": [],
   "source": [
    "df_merged = df_games.merge(df_genres, on='id', how='left')\n",
    "\n",
    "features = ['release_date'] + list(df_genres.columns[1:])  \n",
    "\n",
    "# Normalizo 'release_year'\n",
    "scaler = StandardScaler()\n",
    "df_merged['release_date'] = scaler.fit_transform(df_merged[['release_date']])\n",
    "\n",
    "\n",
    "df_final = df_merged[['id'] + features]\n",
    "df_final= df_final.merge(df_games[['id', 'app_name']], on='id', how='left')"
   ]
  },
  {
   "cell_type": "markdown",
   "metadata": {},
   "source": [
    "seleccionamos una muestra aleatoria de los datos, por ejemplo, el 50%, y la guardamos en df_sampled. Luego, calculamos la matriz de similitud coseno utilizando las características seleccionadas de la muestra. Cualquier valor NaN en la muestra se rellena con ceros antes de calcular la similitud.\n"
   ]
  },
  {
   "cell_type": "code",
   "execution_count": 4,
   "metadata": {},
   "outputs": [],
   "source": [
    "# Sample a subset of your data, for example, 50%\n",
    "df_sampled = df_final.sample(frac=0.5, random_state=42)\n",
    "\n",
    "# Calculate the cosine similarity matrix\n",
    "similarity_matrix = cosine_similarity(df_sampled[features].fillna(0))\n",
    "similarity_matrix = np.nan_to_num(similarity_matrix)"
   ]
  },
  {
   "cell_type": "markdown",
   "metadata": {},
   "source": [
    "### Creamos función recomendacion_juego_muestreado \n",
    "Esta funcion tiene como objetivo principal recomendar juegos similares basados en un ID de juego dado dentro de una muestra de datos. Comienza verificando si el ID del juego está presente en los juegos muestreados. Si no se encuentra, devuelve un mensaje indicando que no se encontraron recomendaciones. Luego, calcula los puntajes de similitud entre el juego dado y otros juegos en la muestra, ordenándolos de mayor a menor similitud. A continuación, obtiene los nombres de los juegos similares y genera un mensaje de recomendación que incluye el juego dado y los juegos similares. Finalmente, devuelve este mensaje como una lista.\n"
   ]
  },
  {
   "cell_type": "code",
   "execution_count": 5,
   "metadata": {},
   "outputs": [],
   "source": [
    "def recomendacion_juego_muestreado(game_id, top_n=5):\n",
    "    # Obtener los IDs de los juegos muestreados\n",
    "    ids_juegos_muestreados = df_sampled['id'].unique()\n",
    "    \n",
    "    # Verificar si el ID del juego está en los juegos muestreados\n",
    "    if game_id not in ids_juegos_muestreados:\n",
    "        return f\"No se encontraron recomendaciones: {game_id} no está en los datos muestreados.\"\n",
    "    \n",
    "    # Obtener el índice del juego en los datos muestreados\n",
    "    indice_juego = df_sampled.index[df_sampled['id'] == game_id].tolist()\n",
    "    \n",
    "    # Verificar si se encontró el juego en los datos muestreados\n",
    "    if not indice_juego:\n",
    "        return f\"No se encontraron recomendaciones: {game_id} no está en los datos muestreados.\"\n",
    "    \n",
    "    indice_juego = indice_juego[0]\n",
    "\n",
    "    # Calcular los puntajes de similitud entre juegos\n",
    "    puntajes_similitud = list(enumerate(similarity_matrix[indice_juego]))\n",
    "    puntajes_similitud = sorted(puntajes_similitud, key=lambda x: x[1], reverse=True)\n",
    "\n",
    "    # Obtener los índices de los juegos similares\n",
    "    indices_juegos_similares = [i for i, puntaje in puntajes_similitud[1:top_n+1]]\n",
    "    \n",
    "    # Obtener los nombres de los juegos similares\n",
    "    nombres_juegos_similares = df_sampled['app_name'].iloc[indices_juegos_similares].tolist()\n",
    "\n",
    "    # Mensaje de recomendación\n",
    "    mensaje_recomendacion = f\"Juegos recomendados basados en el ID del juego {game_id} - {df_sampled['app_name'].iloc[indice_juego]}:\"\n",
    "    \n",
    "    return [mensaje_recomendacion] + nombres_juegos_similares\n"
   ]
  },
  {
   "cell_type": "code",
   "execution_count": 6,
   "metadata": {},
   "outputs": [
    {
     "name": "stdout",
     "output_type": "stream",
     "text": [
      "Recomendaciones para ID de juego 754190\n",
      "Juegos recomendados basados en el ID del juego 754190 - elaine:\n",
      "The Maze : Endless nightmare\n",
      "Wolfenstein II: The Freedom Chronicles - Season Pass\n",
      "Qbike: Synthwave Soundtrack\n",
      "Bayonetta\n",
      "Injustice™ 2 - John Stewart\n"
     ]
    }
   ],
   "source": [
    "test_game_id = \"754190\"\n",
    "recommendations = recomendacion_juego_muestreado(test_game_id, top_n=5)\n",
    "\n",
    "print(\"Recomendaciones para ID de juego\", test_game_id)\n",
    "for rec in recommendations:\n",
    "    print(rec)"
   ]
  }
 ],
 "metadata": {
  "kernelspec": {
   "display_name": "Python 3",
   "language": "python",
   "name": "python3"
  },
  "language_info": {
   "codemirror_mode": {
    "name": "ipython",
    "version": 3
   },
   "file_extension": ".py",
   "mimetype": "text/x-python",
   "name": "python",
   "nbconvert_exporter": "python",
   "pygments_lexer": "ipython3",
   "version": "3.11.5"
  }
 },
 "nbformat": 4,
 "nbformat_minor": 2
}
